{
 "cells": [
  {
   "cell_type": "code",
   "execution_count": 1,
   "id": "57955e89",
   "metadata": {},
   "outputs": [],
   "source": [
    "import pandas as pd\n",
    "import numpy as np\n",
    "\n",
    "from utils.pca_scrath import pca"
   ]
  },
  {
   "cell_type": "code",
   "execution_count": 2,
   "id": "251c6c2e",
   "metadata": {},
   "outputs": [],
   "source": [
    "df = pd.read_csv('Data/Processed/spotify_clean.csv')"
   ]
  },
  {
   "cell_type": "code",
   "execution_count": 3,
   "id": "1ee8ada5",
   "metadata": {},
   "outputs": [],
   "source": [
    "features = ['danceability', 'energy', 'valence', 'tempo', 'loudness', 'popularity']\n",
    "df = df.dropna(subset=features).reset_index(drop=True)"
   ]
  },
  {
   "cell_type": "code",
   "execution_count": 7,
   "id": "9f28639f",
   "metadata": {},
   "outputs": [],
   "source": [
    "X = df[features].values.astype(float)"
   ]
  },
  {
   "cell_type": "code",
   "execution_count": 5,
   "id": "036fbd45",
   "metadata": {},
   "outputs": [],
   "source": [
    "def standardize(X):\n",
    "    mean = np.mean(X, axis=0)\n",
    "    std = np.std(X, axis=0)\n",
    "    return (X - mean) / std, mean, std"
   ]
  },
  {
   "cell_type": "code",
   "execution_count": null,
   "id": "86a4f388",
   "metadata": {},
   "outputs": [],
   "source": [
    "def pca(X, n_components=None):\n",
    "    X_std, mean, std = standardize(X)\n",
    "    cov_matrix = np.cov(X_std, rowvar=False)\n",
    "\n",
    "    eigenvalues, eigenvectors = np.linalg.eigh(cov_matrix)\n",
    "\n",
    "    sorted_idx = np.argsort(eigenvalues)[::-1]\n",
    "    eigenvalues = eigenvalues[sorted_idx]\n",
    "    eigenvectors = eigenvectors[:, sorted_idx]\n",
    "\n",
    "    if n_components is not None:\n",
    "        eigenvectors = eigenvectors[:, :n_components]\n",
    "\n",
    "    X_pca = np.dot(X_std, eigenvectors)\n",
    "    return X_pca, eigenvalues, eigenvectors"
   ]
  },
  {
   "cell_type": "code",
   "execution_count": 8,
   "id": "699de934",
   "metadata": {},
   "outputs": [],
   "source": [
    "X_pca, eigenvalues, eigenvectors = pca(X, n_components=4)"
   ]
  },
  {
   "cell_type": "code",
   "execution_count": 10,
   "id": "36b15dc2",
   "metadata": {},
   "outputs": [],
   "source": [
    "for i in range(4):\n",
    "    df[f'PC{i+1}'] = [row[i] for row in X_pca]"
   ]
  },
  {
   "cell_type": "code",
   "execution_count": 11,
   "id": "5c90aa06",
   "metadata": {},
   "outputs": [],
   "source": [
    "X_pca_norm, _, _ = standardize(df[['PC1', 'PC2', 'PC3', 'PC4']].values)"
   ]
  },
  {
   "cell_type": "code",
   "execution_count": 12,
   "id": "9d2cf401",
   "metadata": {},
   "outputs": [],
   "source": [
    "def recommend_similar(song_index, top_k=5):\n",
    "    target = X_pca_norm[song_index]\n",
    "    norms = np.linalg.norm(X_pca_norm, axis=1)\n",
    "    similarities = np.dot(X_pca_norm, target) / (norms * np.linalg.norm(target))\n",
    "\n",
    "    indices = np.argsort(-similarities)\n",
    "    indices = [i for i in indices if i != song_index]\n",
    "\n",
    "    seen = set()\n",
    "    unique_indices = []\n",
    "    for i in indices:\n",
    "        key = (df.loc[i, 'track_name'], df.loc[i, 'artist'])\n",
    "        if key not in seen:\n",
    "            seen.add(key)\n",
    "            unique_indices.append(i)\n",
    "        if len(unique_indices) >= top_k:\n",
    "            break\n",
    "\n",
    "    cols = ['track_name', 'artist', 'genre']\n",
    "    return df.iloc[unique_indices][cols]"
   ]
  },
  {
   "cell_type": "code",
   "execution_count": 13,
   "id": "af2a13b5",
   "metadata": {},
   "outputs": [
    {
     "name": "stdout",
     "output_type": "stream",
     "text": [
      "Gợi ý cho bài hát:\n",
      "→ Can't Stay Mad - Danielle Bradbery\n",
      "\n",
      "Các bài hát tương tự:\n",
      "                     track_name       artist  genre\n",
      "4834    Because He Lives (Amen)   Matt Maher      1\n",
      "103381             Pure Morning      Placebo      5\n",
      "101959                 It's On!         Korn      5\n",
      "78595              Stomp Me Out    Bryce Fox      5\n",
      "24131              Another Life  Yellow Claw     10\n"
     ]
    }
   ],
   "source": [
    "idx = 1000\n",
    "print(\"Gợi ý cho bài hát:\")\n",
    "print(f\"→ {df.loc[idx, 'track_name']} - {df.loc[idx, 'artist']}\\n\")\n",
    "\n",
    "print(\"Các bài hát tương tự:\")\n",
    "print(recommend_similar(idx, top_k=5))"
   ]
  }
 ],
 "metadata": {
  "kernelspec": {
   "display_name": "base",
   "language": "python",
   "name": "python3"
  },
  "language_info": {
   "codemirror_mode": {
    "name": "ipython",
    "version": 3
   },
   "file_extension": ".py",
   "mimetype": "text/x-python",
   "name": "python",
   "nbconvert_exporter": "python",
   "pygments_lexer": "ipython3",
   "version": "3.11.7"
  }
 },
 "nbformat": 4,
 "nbformat_minor": 5
}
